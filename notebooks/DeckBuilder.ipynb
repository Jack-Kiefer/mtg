{
 "cells": [
  {
   "cell_type": "code",
   "execution_count": 1,
   "id": "f47b9ed1",
   "metadata": {},
   "outputs": [
    {
     "name": "stdout",
     "output_type": "stream",
     "text": [
      "env: TF_DISABLE_MLC=1\n"
     ]
    }
   ],
   "source": [
    "%env TF_DISABLE_MLC=1"
   ]
  },
  {
   "cell_type": "code",
   "execution_count": 2,
   "id": "85d2692e",
   "metadata": {},
   "outputs": [],
   "source": [
    "from mtg.obj.games import Games\n",
    "from mtg.ml.models import DeckBuilder\n",
    "from mtg.ml.trainer import Trainer\n",
    "import tensorflow as tf"
   ]
  },
  {
   "cell_type": "code",
   "execution_count": 3,
   "id": "414a36c3",
   "metadata": {},
   "outputs": [],
   "source": [
    "data_file = '/Users/a10889158/personal/mtg/data/game_data_public.KHM.PremierDraft.csv'"
   ]
  },
  {
   "cell_type": "code",
   "execution_count": 4,
   "id": "b4c966e7",
   "metadata": {},
   "outputs": [
    {
     "name": "stderr",
     "output_type": "stream",
     "text": [
      "/Users/a10889158/miniforge3/envs/personal/lib/python3.8/site-packages/pandas/core/indexing.py:1676: SettingWithCopyWarning: \n",
      "A value is trying to be set on a copy of a slice from a DataFrame.\n",
      "Try using .loc[row_indexer,col_indexer] = value instead\n",
      "\n",
      "See the caveats in the documentation: https://pandas.pydata.org/pandas-docs/stable/user_guide/indexing.html#returning-a-view-versus-a-copy\n",
      "  self._setitem_single_column(ilocs[0], value, pi)\n"
     ]
    },
    {
     "name": "stdout",
     "output_type": "stream",
     "text": [
      "CPU times: user 9.15 s, sys: 2.69 s, total: 11.8 s\n",
      "Wall time: 13.4 s\n"
     ]
    }
   ],
   "source": [
    "%%time\n",
    "games = Games(data_file,'khm')"
   ]
  },
  {
   "cell_type": "code",
   "execution_count": 5,
   "id": "c26e0bac",
   "metadata": {},
   "outputs": [],
   "source": [
    "decks = games.get_decks()"
   ]
  },
  {
   "cell_type": "code",
   "execution_count": 6,
   "id": "762a02ab",
   "metadata": {},
   "outputs": [
    {
     "name": "stderr",
     "output_type": "stream",
     "text": [
      "Epoch 1/25: 100%|██████████| 449/449 [00:04<00:00, 92.03Batch/s, loss=0.319]\n",
      "Epoch 2/25: 100%|██████████| 449/449 [00:04<00:00, 96.56Batch/s, loss=0.261]\n",
      "Epoch 3/25: 100%|██████████| 449/449 [00:04<00:00, 96.83Batch/s, loss=0.248]\n",
      "Epoch 4/25: 100%|██████████| 449/449 [00:04<00:00, 96.47Batch/s, loss=0.236]\n",
      "Epoch 5/25: 100%|██████████| 449/449 [00:04<00:00, 96.46Batch/s, loss=0.23] \n",
      "Epoch 6/25: 100%|██████████| 449/449 [00:04<00:00, 96.13Batch/s, loss=0.229]\n",
      "Epoch 7/25: 100%|██████████| 449/449 [00:04<00:00, 96.10Batch/s, loss=0.228]\n",
      "Epoch 8/25: 100%|██████████| 449/449 [00:04<00:00, 95.87Batch/s, loss=0.226]\n",
      "Epoch 9/25: 100%|██████████| 449/449 [00:04<00:00, 95.25Batch/s, loss=0.227]\n",
      "Epoch 10/25: 100%|██████████| 449/449 [00:04<00:00, 95.22Batch/s, loss=0.225]\n",
      "Epoch 11/25: 100%|██████████| 449/449 [00:04<00:00, 95.15Batch/s, loss=0.224]\n",
      "Epoch 12/25: 100%|██████████| 449/449 [00:04<00:00, 94.37Batch/s, loss=0.224]\n",
      "Epoch 13/25: 100%|██████████| 449/449 [00:04<00:00, 94.57Batch/s, loss=0.224]\n",
      "Epoch 14/25: 100%|██████████| 449/449 [00:04<00:00, 94.00Batch/s, loss=0.223]\n",
      "Epoch 15/25: 100%|██████████| 449/449 [00:04<00:00, 94.57Batch/s, loss=0.223]\n",
      "Epoch 16/25: 100%|██████████| 449/449 [00:04<00:00, 93.35Batch/s, loss=0.222]\n",
      "Epoch 17/25: 100%|██████████| 449/449 [00:04<00:00, 94.02Batch/s, loss=0.223]\n",
      "Epoch 18/25: 100%|██████████| 449/449 [00:04<00:00, 93.54Batch/s, loss=0.222]\n",
      "Epoch 19/25: 100%|██████████| 449/449 [00:04<00:00, 92.61Batch/s, loss=0.221]\n",
      "Epoch 20/25: 100%|██████████| 449/449 [00:04<00:00, 93.85Batch/s, loss=0.222]\n",
      "Epoch 21/25: 100%|██████████| 449/449 [00:04<00:00, 94.14Batch/s, loss=0.221]\n",
      "Epoch 22/25: 100%|██████████| 449/449 [00:04<00:00, 94.09Batch/s, loss=0.22]\n",
      "Epoch 23/25: 100%|██████████| 449/449 [00:04<00:00, 94.06Batch/s, loss=0.221]\n",
      "Epoch 24/25: 100%|██████████| 449/449 [00:04<00:00, 94.05Batch/s, loss=0.22] \n",
      "Epoch 25/25: 100%|██████████| 449/449 [00:04<00:00, 93.02Batch/s, loss=0.22] \n"
     ]
    }
   ],
   "source": [
    "model = DeckBuilder(decks.shape[1],16)\n",
    "model.compile(\n",
    "    optimizer=tf.optimizers.Adam(lr=0.001),\n",
    "    loss_function=tf.losses.mean_squared_error,\n",
    "    reg_coef=1.0,\n",
    "    constraint_coef=0.1,\n",
    ")\n",
    "t = Trainer(decks, decks, model)\n",
    "t.train(25, batch_size=128)"
   ]
  },
  {
   "cell_type": "code",
   "execution_count": null,
   "id": "870f3d73",
   "metadata": {},
   "outputs": [],
   "source": []
  }
 ],
 "metadata": {
  "kernelspec": {
   "display_name": "personal",
   "language": "python",
   "name": "personal"
  },
  "language_info": {
   "codemirror_mode": {
    "name": "ipython",
    "version": 3
   },
   "file_extension": ".py",
   "mimetype": "text/x-python",
   "name": "python",
   "nbconvert_exporter": "python",
   "pygments_lexer": "ipython3",
   "version": "3.8.8"
  }
 },
 "nbformat": 4,
 "nbformat_minor": 5
}
