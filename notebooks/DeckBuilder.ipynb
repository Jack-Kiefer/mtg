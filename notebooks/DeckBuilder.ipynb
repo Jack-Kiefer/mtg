{
 "cells": [
  {
   "cell_type": "code",
   "execution_count": 1,
   "id": "fbae9f49",
   "metadata": {},
   "outputs": [
    {
     "name": "stdout",
     "output_type": "stream",
     "text": [
      "env: TF_DISABLE_MLC=1\n"
     ]
    }
   ],
   "source": [
    "%env TF_DISABLE_MLC=1"
   ]
  },
  {
   "cell_type": "code",
   "execution_count": 2,
   "id": "85d2692e",
   "metadata": {},
   "outputs": [],
   "source": [
    "from mtg.obj.games import Games\n",
    "from mtg.ml.models import DeckBuilder\n",
    "from mtg.ml.trainer import Trainer\n",
    "from mtg.utils.display import print_deck\n",
    "import tensorflow as tf"
   ]
  },
  {
   "cell_type": "code",
   "execution_count": 3,
   "id": "414a36c3",
   "metadata": {},
   "outputs": [],
   "source": [
    "data_file = '/Users/a10889158/personal/mtg/data/game_data_public.KHM.PremierDraft.csv'"
   ]
  },
  {
   "cell_type": "code",
   "execution_count": 4,
   "id": "b4c966e7",
   "metadata": {
    "scrolled": true
   },
   "outputs": [
    {
     "name": "stderr",
     "output_type": "stream",
     "text": [
      "/Users/a10889158/miniforge3/envs/personal/lib/python3.8/site-packages/pandas/core/indexing.py:1676: SettingWithCopyWarning: \n",
      "A value is trying to be set on a copy of a slice from a DataFrame.\n",
      "Try using .loc[row_indexer,col_indexer] = value instead\n",
      "\n",
      "See the caveats in the documentation: https://pandas.pydata.org/pandas-docs/stable/user_guide/indexing.html#returning-a-view-versus-a-copy\n",
      "  self._setitem_single_column(ilocs[0], value, pi)\n"
     ]
    },
    {
     "name": "stdout",
     "output_type": "stream",
     "text": [
      "CPU times: user 9.53 s, sys: 3.27 s, total: 12.8 s\n",
      "Wall time: 14.7 s\n"
     ]
    }
   ],
   "source": [
    "%%time\n",
    "games = Games(data_file,'khm')"
   ]
  },
  {
   "cell_type": "code",
   "execution_count": 5,
   "id": "c26e0bac",
   "metadata": {},
   "outputs": [],
   "source": [
    "decks = games.get_decks()"
   ]
  },
  {
   "cell_type": "code",
   "execution_count": 32,
   "id": "6efe04a3",
   "metadata": {},
   "outputs": [],
   "source": [
    "import numpy as np\n",
    "idxs = np.arange(len(decks))\n",
    "train_idxs = np.random.choice(idxs,int(len(idxs) * 0.8),replace=False)\n",
    "test_idxs = np.asarray(list(set(idxs.flatten()) - set(train_idxs.flatten())))"
   ]
  },
  {
   "cell_type": "code",
   "execution_count": 36,
   "id": "80bf27a8",
   "metadata": {},
   "outputs": [],
   "source": [
    "train_decks = decks[train_idxs]\n",
    "test_decks = decks[test_idxs]"
   ]
  },
  {
   "cell_type": "code",
   "execution_count": 37,
   "id": "4fd85282",
   "metadata": {},
   "outputs": [
    {
     "name": "stderr",
     "output_type": "stream",
     "text": [
      "Epoch 1/25: 100%|██████████| 1437/1437 [00:10<00:00, 139.06Batch/s, loss=0.275]\n",
      "Epoch 2/25: 100%|██████████| 1437/1437 [00:10<00:00, 142.33Batch/s, loss=0.231]\n",
      "Epoch 3/25: 100%|██████████| 1437/1437 [00:10<00:00, 142.77Batch/s, loss=0.226]\n",
      "Epoch 4/25: 100%|██████████| 1437/1437 [00:10<00:00, 142.43Batch/s, loss=0.225]\n",
      "Epoch 5/25: 100%|██████████| 1437/1437 [00:10<00:00, 140.96Batch/s, loss=0.224]\n",
      "Epoch 6/25: 100%|██████████| 1437/1437 [00:10<00:00, 141.12Batch/s, loss=0.223]\n",
      "Epoch 7/25: 100%|██████████| 1437/1437 [00:10<00:00, 141.91Batch/s, loss=0.223]\n",
      "Epoch 8/25: 100%|██████████| 1437/1437 [00:10<00:00, 139.61Batch/s, loss=0.222]\n",
      "Epoch 9/25: 100%|██████████| 1437/1437 [00:10<00:00, 139.78Batch/s, loss=0.222]\n",
      "Epoch 10/25: 100%|██████████| 1437/1437 [00:10<00:00, 139.00Batch/s, loss=0.221]\n",
      "Epoch 11/25:  21%|██        | 296/1437 [00:02<00:08, 134.84Batch/s, loss=0.221]"
     ]
    },
    {
     "ename": "KeyboardInterrupt",
     "evalue": "",
     "output_type": "error",
     "traceback": [
      "\u001b[0;31m---------------------------------------------------------------------------\u001b[0m",
      "\u001b[0;31mKeyboardInterrupt\u001b[0m                         Traceback (most recent call last)",
      "\u001b[0;32m<ipython-input-37-d813595d7cf7>\u001b[0m in \u001b[0;36m<module>\u001b[0;34m\u001b[0m\n\u001b[1;32m      7\u001b[0m )\n\u001b[1;32m      8\u001b[0m \u001b[0mt\u001b[0m \u001b[0;34m=\u001b[0m \u001b[0mTrainer\u001b[0m\u001b[0;34m(\u001b[0m\u001b[0mtrain_decks\u001b[0m\u001b[0;34m,\u001b[0m \u001b[0mtrain_decks\u001b[0m\u001b[0;34m,\u001b[0m \u001b[0mmodel\u001b[0m\u001b[0;34m)\u001b[0m\u001b[0;34m\u001b[0m\u001b[0;34m\u001b[0m\u001b[0m\n\u001b[0;32m----> 9\u001b[0;31m \u001b[0mt\u001b[0m\u001b[0;34m.\u001b[0m\u001b[0mtrain\u001b[0m\u001b[0;34m(\u001b[0m\u001b[0;36m25\u001b[0m\u001b[0;34m,\u001b[0m \u001b[0mbatch_size\u001b[0m\u001b[0;34m=\u001b[0m\u001b[0;36m32\u001b[0m\u001b[0;34m)\u001b[0m\u001b[0;34m\u001b[0m\u001b[0;34m\u001b[0m\u001b[0m\n\u001b[0m",
      "\u001b[0;32m~/personal/mtg/mtg/ml/trainer.py\u001b[0m in \u001b[0;36mtrain\u001b[0;34m(self, n_epochs, batch_size, verbose)\u001b[0m\n\u001b[1;32m     45\u001b[0m             \u001b[0;32mfor\u001b[0m \u001b[0mi\u001b[0m \u001b[0;32min\u001b[0m \u001b[0mrange\u001b[0m\u001b[0;34m(\u001b[0m\u001b[0mn_batches\u001b[0m\u001b[0;34m)\u001b[0m\u001b[0;34m:\u001b[0m\u001b[0;34m\u001b[0m\u001b[0;34m\u001b[0m\u001b[0m\n\u001b[1;32m     46\u001b[0m                 \u001b[0mbatch_idx\u001b[0m \u001b[0;34m=\u001b[0m \u001b[0mself\u001b[0m\u001b[0;34m.\u001b[0m\u001b[0mbatch_ids\u001b[0m\u001b[0;34m[\u001b[0m\u001b[0mi\u001b[0m \u001b[0;34m*\u001b[0m \u001b[0mbatch_size\u001b[0m\u001b[0;34m:\u001b[0m\u001b[0;34m(\u001b[0m\u001b[0mi\u001b[0m\u001b[0;34m+\u001b[0m\u001b[0;36m1\u001b[0m\u001b[0;34m)\u001b[0m \u001b[0;34m*\u001b[0m \u001b[0mbatch_size\u001b[0m\u001b[0;34m]\u001b[0m\u001b[0;34m\u001b[0m\u001b[0;34m\u001b[0m\u001b[0m\n\u001b[0;32m---> 47\u001b[0;31m                 \u001b[0mbatch_features\u001b[0m \u001b[0;34m=\u001b[0m \u001b[0mself\u001b[0m\u001b[0;34m.\u001b[0m\u001b[0mfeatures\u001b[0m\u001b[0;34m[\u001b[0m\u001b[0mbatch_idx\u001b[0m\u001b[0;34m,\u001b[0m\u001b[0;34m:\u001b[0m\u001b[0;34m]\u001b[0m\u001b[0;34m\u001b[0m\u001b[0;34m\u001b[0m\u001b[0m\n\u001b[0m\u001b[1;32m     48\u001b[0m                 \u001b[0mbatch_target\u001b[0m \u001b[0;34m=\u001b[0m \u001b[0mself\u001b[0m\u001b[0;34m.\u001b[0m\u001b[0mtarget\u001b[0m\u001b[0;34m[\u001b[0m\u001b[0mbatch_idx\u001b[0m\u001b[0;34m,\u001b[0m\u001b[0;34m:\u001b[0m\u001b[0;34m]\u001b[0m\u001b[0;34m\u001b[0m\u001b[0;34m\u001b[0m\u001b[0m\n\u001b[1;32m     49\u001b[0m                 \u001b[0mloss\u001b[0m \u001b[0;34m=\u001b[0m \u001b[0mself\u001b[0m\u001b[0;34m.\u001b[0m\u001b[0m_step\u001b[0m\u001b[0;34m(\u001b[0m\u001b[0mbatch_features\u001b[0m\u001b[0;34m,\u001b[0m \u001b[0mbatch_target\u001b[0m\u001b[0;34m)\u001b[0m\u001b[0;34m\u001b[0m\u001b[0;34m\u001b[0m\u001b[0m\n",
      "\u001b[0;31mKeyboardInterrupt\u001b[0m: "
     ]
    }
   ],
   "source": [
    "model = DeckBuilder(decks.shape[1],16)\n",
    "model.compile(\n",
    "    optimizer=tf.optimizers.Adam(lr=0.001),\n",
    "    loss_function=tf.losses.mean_squared_error,\n",
    "    reg_coef=1.0,\n",
    "    constraint_coef=0.1,\n",
    ")\n",
    "t = Trainer(train_decks, train_decks, model)\n",
    "t.train(25, batch_size=32)"
   ]
  },
  {
   "cell_type": "code",
   "execution_count": null,
   "id": "b5e4db62",
   "metadata": {},
   "outputs": [],
   "source": []
  }
 ],
 "metadata": {
  "kernelspec": {
   "display_name": "personal",
   "language": "python",
   "name": "personal"
  },
  "language_info": {
   "codemirror_mode": {
    "name": "ipython",
    "version": 3
   },
   "file_extension": ".py",
   "mimetype": "text/x-python",
   "name": "python",
   "nbconvert_exporter": "python",
   "pygments_lexer": "ipython3",
   "version": "3.8.8"
  }
 },
 "nbformat": 4,
 "nbformat_minor": 5
}
